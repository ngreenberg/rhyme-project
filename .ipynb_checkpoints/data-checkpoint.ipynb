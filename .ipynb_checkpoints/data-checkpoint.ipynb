{
 "cells": [
  {
   "cell_type": "code",
   "execution_count": 1,
   "metadata": {
    "collapsed": false
   },
   "outputs": [],
   "source": [
    "import re\n",
    "\n",
    "regex = r'(.+\\[\\d+\\])'\n",
    "\n",
    "def extract_rhymes(rhymes, song, line):\n",
    "    for word in line.split():\n",
    "        if re.match(regex, word):\n",
    "            word = word.split('-')[-1].lower()\n",
    "            word = word.split('&')[-1].lower()\n",
    "            word = word.translate({ord(c): None for c in '\"\\'(),.!?{}…:;'})\n",
    "            word = word.translate({ord(c): 'e' for c in 'é'})\n",
    "            word, num = word.split('[')\n",
    "            num = num[:-1]\n",
    "            rhymes[song.rstrip() + ' ' + num].append(word)"
   ]
  },
  {
   "cell_type": "code",
   "execution_count": 2,
   "metadata": {
    "collapsed": false
   },
   "outputs": [],
   "source": [
    "def read_file(rhymes, filepath):\n",
    "    with open(filepath) as f:\n",
    "        song = ''\n",
    "        \n",
    "        for line in f:\n",
    "            if line.startswith('[[') and line.endswith(']]\\n'):\n",
    "                song = line\n",
    "            else:\n",
    "                extract_rhymes(rhymes, song, line)"
   ]
  },
  {
   "cell_type": "code",
   "execution_count": 8,
   "metadata": {
    "collapsed": false,
    "scrolled": false
   },
   "outputs": [
    {
     "name": "stdout",
     "output_type": "stream",
     "text": [
      "1089\n",
      "2858\n",
      "[('me', 39), ('you', 19), ('shit', 17), ('back', 16), ('man', 15), ('ass', 15), ('it', 15), ('up', 15), ('that', 14), ('go', 13), ('bitch', 13), ('be', 12), ('say', 10), ('yo', 10), ('in', 10), ('out', 9), ('flow', 9), ('nation', 8), ('again', 8), ('one', 8), ('us', 8), ('here', 7), ('time', 7), ('know', 7), ('hand', 7), ('crew', 7), ('her', 7), ('money', 6), ('down', 6), ('from', 6), ('there', 6), ('rock', 6), ('crack', 6), ('this', 6), ('do', 6), ('through', 6), ('black', 6), ('e', 6), ('streets', 5), ('hit', 5), ('true', 5), ('more', 5), ('mind', 5), ('flavor', 5), ('ya', 5), ('see', 5), ('life', 5), ('game', 5), ('niggas', 5), ('off', 5), ('show', 5), ('zone', 5), ('home', 5), ('last', 5), ('jam', 5), ('sound', 5), ('ground', 5), ('and', 5), ('right', 5), ('like', 5), ('gun', 5), ('nigga', 5), ('rhyme', 4), ('shot', 4), ('block', 4), ('scenario', 4), ('around', 4), ('tip', 4), ('now', 4), ('doo', 4), ('am', 4), ('mc', 4), ('word', 4), ('original', 4), ('two', 4), ('on', 4), ('are', 4), ('going', 4), ('mine', 4), ('all', 4), ('to', 4), ('mic', 4), ('key', 4), ('dead', 4), ('come', 4), ('set', 4), ('crime', 4), ('hell', 4), ('got', 4), ('talk', 4), ('slow', 4), ('runnin', 4), ('fact', 4), ('dick', 4), ('at', 4), ('brain', 3), ('reality', 3), ('charts', 3), ('hitting', 3), ('way', 3), ('wall', 3), ('ball', 3), ('beat', 3), ('strong', 3), ('no', 3), ('ho', 3), ('jack', 3), ('rap', 3), ('compton', 3), ('next', 3), ('space', 3), ('later', 3), ('o', 3), ('ear', 3), ('behavior', 3), ('along', 3), ('three', 3), ('punk', 3), ('abstract', 3), ('own', 3), ('alone', 3), ('pop', 3), ('fame', 3), ('half', 3), ('path', 3), ('work', 3), ('b', 3), ('please', 3), ('authority', 3), ('eyes', 3), ('together', 3), ('forever', 3), ('war', 3), ('we', 3), ('dream', 3), ('day', 3), ('face', 3), ('fall', 3), ('showing', 3), ('things', 3), ('head', 3), ('tracks', 3), ('too', 3), ('first', 3), ('proof', 3), ('microphone', 3), ('g', 3), ('speed', 3), ('low', 3), ('mode', 3), ('boom', 3), ('store', 3), ('make', 3), ('rocks', 3), ('pen', 3), ('well', 3), ('though', 3), ('die', 3), ('youth', 3), ('plan', 3), ('walk', 3), ('pot', 3), ('free', 3), ('came', 3), ('frame', 3), ('stand', 3), ('none', 3), ('law', 3), ('gat', 3), ('bigger', 3), ('minute', 3), ('motherfucker', 3), ('quit', 3), ('deep', 3), ('lose', 3), ('with', 3), ('damage', 3), ('follow', 3), ('dopeman', 3), ('yourself', 3), ('heart', 3), ('rich', 3), ('earth', 3), ('pain', 3), ('better', 3), ('wear', 3), ('past', 3), ('bomb', 3), ('then', 3), ('for', 3), ('fire', 3), ('believe', 2), ('people', 2), ('salary', 2), ('cold', 2), ('bold', 2), ('ways', 2), ('smog', 2), ('bars', 2), ('stars', 2), ('art', 2), ('competition', 2), ('spittin', 2), ('kitten', 2), ('division', 2), ('town', 2), ('route', 2), ('state', 2), ('boy', 2), ('hood', 2), ('freak', 2), ('so', 2), ('speak', 2), ('jeep', 2), ('bat', 2), ('some', 2), ('tribe', 2), ('live', 2), ('flip', 2), ('brown', 2), ('cow', 2), ('flex', 2), ('radio', 2), ('four', 2), ('shape', 2), ('tapes', 2), ('papes', 2), ('base', 2), ('subliminal', 2), ('criminal', 2), ('kid', 2), ('did', 2), ('sphere', 2), ('necessary', 2), ('chicken', 2), ('why', 2), ('cuz', 2), ('hug', 2), ('love', 2), ('of', 2), ('feet', 2), ('long', 2), ('junk', 2), ('while', 2), ('em', 2), ('stop', 2), ('business', 2), ('family', 2), ('shame', 2), ('mission', 2), ('tape', 2), ('worst', 2), ('dirt', 2), ('listen', 2), ('pack', 2), ('plug', 2), ('bugged', 2), ('much', 2), ('nikes', 2), ('fun', 2), ('meet', 2), ('heaven', 2), ('dies', 2), ('tactics', 2), ('quitters', 2), ('figures', 2), ('tour', 2), ('smirnoff', 2), ('molotov', 2), ('happening', 2), ('rowing', 2), ('leave', 2), ('yall', 2), ('poverty', 2), ('bone', 2), ('lyrically', 2), ('air', 2), ('soul', 2), ('brothers', 2), ('place', 2), ('taste', 2), ('sloppy', 2), ('copy', 2), ('laugh', 2), ('firm', 2), ('probably', 2), ('friend', 2), ('fear', 2), ('lp', 2), ('done', 2), ('cut', 2), ('song', 2), ('today', 2), ('murder', 2), ('tears', 2), ('bleed', 2), ('greater', 2), ('getting', 2), ('wet', 2), ('sin', 2), ('men', 2), ('racing', 2), ('economy', 2), ('teenager', 2), ('pager', 2), ('hop', 2), ('room', 2), ('truth', 2), ('hard', 2), ('drastic', 2), ('negativity', 2), ('rise', 2), ('society', 2), ('high', 2), ('fantasy', 2), ('hoes', 2), ('corner', 2), ('grave', 2), ('school', 2), ('rules', 2), ('grown', 2), ('a', 2), ('court', 2), ('acting', 2), ('malik', 2), ('chalk', 2), ('movement', 2), ('round', 2), ('sounds', 2), ('hot', 2), ('backside', 2), ('side', 2), ('ali', 2), ('evening', 2), ('race', 2), ('jo', 2), ('herb', 2), ('system', 2), ('villain', 2), ('women', 2), ('dreams', 2), ('capture', 2), ('play', 2), ('is', 2), ('biz', 2), ('comin', 2), ('trivia', 2), ('figure', 2), ('dummy', 2), ('shock', 2), ('project', 2), ('pow', 2), ('pockets', 2), ('years', 2), ('numbers', 2), ('robbery', 2), ('presence', 2), ('made', 2), ('move', 2), ('night', 2), ('knees', 2), ('jail', 2), ('cell', 2), ('water', 2), ('what', 2), ('cpt', 2), ('weapon', 2), ('saw', 2), ('blast', 2), ('trigger', 2), ('fool', 2), ('t', 2), ('fuck', 2), ('jacking', 2), ('static', 2), ('raw', 2), ('smother', 2), ('smile', 2), ('rolling', 2), ('dark', 2), ('sucker', 2), ('about', 2), ('care', 2), ('yeah', 2), ('shots', 2), ('ride', 2), ('homicide', 2), ('crazy', 2), ('slang', 2), ('bang', 2), ('sess', 2), ('hollow', 2), ('fessing', 2), ('mortis', 2), ('good', 2), ('strike', 2), ('health', 2), ('teeth', 2), ('can', 2), ('sick', 2), ('worth', 2), ('real', 2), ('slick', 2), ('slug', 2), ('pitch', 2), ('ren', 2), ('alarm', 2), ('blow', 2), ('take', 2), ('find', 2), ('behind', 2), ('get', 2), ('wit', 2), ('fucked', 2), ('floor', 2), ('dope', 2), ('weed', 2), ('not', 2), ('mix', 2), ('who', 2), ('abused', 2), ('score', 2), ('sight', 2), ('tremendous', 2), ('hardcore', 2), ('land', 2), ('son', 2), ('fiend', 2), ('rough', 2), ('slum', 2), ('attack', 2), ('flippin', 2), ('master', 2), ('scream', 2), ('these', 2), ('shogun', 2), ('grounds', 2), ('slam', 2), ('ruckus', 2), ('need', 1), ('rear', 1), ('mood', 1), ('food', 1), ('noodle', 1), ('voodoo', 1), ('juju', 1), ('maniacal', 1), ('liable', 1), ('lap', 1), ('study', 1), ('plains', 1), ('signs', 1), ('sporadically', 1), ('iguanas', 1), ('piranha', 1), ('commas', 1), ('fishbowl', 1), ('hole', 1), ('gays', 1), ('fog', 1), ('logs', 1), ('gods', 1), ('odds', 1), ('smarts', 1), ('statisticians', 1), ('hittin', 1), ('smitten', 1), ('vision', 1), ('witten', 1), ('precision', 1), ('bloodclaat', 1), ('headtop', 1), ('mesmerized', 1), ('thighs', 1), ('everyday', 1), ('pay', 1), ('haitian', 1), ('street', 1), ('relate', 1), ('bawl', 1), ('teflon', 1), ('links', 1), ('stinks', 1), ('coy', 1), ('convoy', 1), ('goods', 1), ('woods', 1), ('week', 1), ('yap', 1), ('discreet', 1), ('elope', 1), ('boat', 1), ('hernia', 1), ('furniture', 1), ('p', 1), ('lg', 1), ('ice', 1), ('mice', 1), ('vice', 1), ('nice', 1), ('attached', 1), ('fakin', 1), ('bacon', 1), ('joe', 1), ('troop', 1), ('scoop', 1), ('handsome', 1), ('taco', 1), ('vibe', 1), ('brooown', 1), ('charlie', 1), ('marley', 1), ('payback', 1), ('bip', 1), ('stomping', 1), ('romping', 1), ('bounce', 1), ('ounce', 1), ('loops', 1), ('troops', 1), ('wow', 1), ('how', 1), ('ill', 1), ('til', 1), ('skill', 1), ('textbook', 1), ('new', 1), ('video', 1), ('arsenio', 1), ('blue', 1), ('scooby', 1), ('whoopie', 1), ('scenarios', 1), ('radios', 1), ('scores', 1), ('smores', 1), ('floors', 1), ('shore', 1), ('grapes', 1), ('apes', 1), ('drakes', 1), ('baked', 1), ('wakes', 1), ('eader', 1), ('leader', 1), ('alligator', 1), ('inflater', 1), ('sensation', 1), ('hibernation', 1), ('elation', 1), ('attacked', 1), ('smack', 1), ('violated', 1), ('agitated', 1), ('ego', 1), ('combine', 1), ('rewind', 1), ('heel', 1), ('wheel', 1), ('cannon', 1), ('bragging', 1), ('imagine', 1), ('library', 1), ('gosh', 1), ('tosh', 1), ('track', 1), ('pardon', 1), ('squadron', 1), ('dragon', 1), ('saggin', 1), ('turban', 1), ('urine', 1), ('kicking', 1), ('horatio', 1), ('does', 1), ('was', 1), ('vibers', 1), ('fuzz', 1), ('rug', 1), ('jitterbug', 1), ('shrug', 1), ('above', 1), ('shove', 1), ('snug', 1), ('glove', 1), ('plus', 1), ('dove', 1), ('layers', 1), ('sayer', 1), ('conveyor', 1), ('mayor', 1), ('favor', 1), ('savior', 1), ('ir', 1), ('obeyer', 1), ('savor', 1), ('major', 1), ('player', 1), ('linden', 1), ('fittin', 1), ('footer', 1), ('frankfurter', 1), ('routine', 1), ('clean', 1), ('smidgen', 1), ('pigeon', 1), ('rip', 1), ('telegram', 1), ('wrong', 1), ('mcs', 1), ('vexed', 1), ('brave', 1), ('misbehave', 1), ('remaining', 1), ('training', 1), ('correct', 1), ('effect', 1), ('check', 1), ('erect', 1), ('heard', 1), ('zack', 1), ('remember', 1), ('sender', 1), ('phife', 1), ('lock', 1), ('brock', 1), ('agile', 1), ('child', 1), ('eighty', 1), ('shady', 1), ('act', 1), ('forum', 1), ('decorum', 1), ('gravity', 1), ('cavity', 1), ('same', 1), ('have', 1), ('stepper', 1), ('pepper', 1), ('creation', 1), ('ejaculation', 1), ('cape', 1), ('curse', 1), ('across', 1), ('floss', 1), ('monotone', 1), ('pitiful', 1), ('action', 1), ('satisfaction', 1), ('hounding', 1), ('surrounding', 1), ('pounding', 1), ('fret', 1), ('sense', 1), ('tense', 1), ('unkind', 1), ('regal', 1), ('sucks', 1), ('buns', 1), ('status', 1), ('maddest', 1), ('world', 1), ('girls', 1), ('feeble', 1), ('evils', 1), ('applebum', 1), ('bonita', 1), ('beseech', 1), ('priority', 1), ('affections', 1), ('direction', 1), ('37', 1), ('wont', 1), ('dont', 1), ('prophylactics', 1), ('songs', 1), ('sisters', 1), ('overlord', 1), ('cords', 1), ('bore', 1), ('roar', 1), ('drinkin', 1), ('chilling', 1), ('bullshitters', 1), ('bitter', 1), ('deliver', 1), ('different', 1), ('written', 1), ('missing', 1), ('cloth', 1), ('soft', 1), ('lost', 1), ('involved', 1), ('dawg', 1), ('log', 1), ('blackening', 1), ('mars', 1), ('overflowing', 1), ('glowing', 1), ('flowing', 1), ('reputation', 1), ('reparations', 1), ('screen', 1), ('stereo', 1), ('refined', 1), ('confined', 1), ('wine', 1), ('climbs', 1), ('carolina', 1), ('finer', 1), ('breathe', 1), ('tone', 1), ('dude', 1), ('growing', 1), ('slowing', 1), ('sublime', 1), ('concubines', 1), ('gems', 1), ('hymns', 1), ('andretti', 1), ('speedy', 1), ('momo', 1), ('mo', 1), ('promo', 1), ('paper', 1), ('caper', 1), ('roll', 1), ('delf', 1), ('self', 1), ('else', 1), ('others', 1), ('class', 1), ('case', 1), ('kryptonite', 1), ('superman', 1), ('cuts', 1), ('dynomutt', 1), ('less', 1), ('quest', 1), ('stats', 1), ('yankees', 1), ('mampi', 1), ('aircraft', 1), ('elsewhere', 1), ('stern', 1), ('young', 1), ('tongue', 1), ('21', 1), ('succeed', 1), ('achieve', 1), ('astound', 1), ('profound', 1), ('meek', 1), ('benz', 1), ('friends', 1), ('gong', 1), ('blaze', 1), ('praise', 1), ('fist', 1), ('twist', 1), ('heap', 1), ('mystic', 1), ('crowd', 1), ('bowed', 1), ('squire', 1), ('attire', 1), ('mire', 1), ('lead', 1), ('breed', 1), ('serene', 1), ('aches', 1), ('berserk', 1), ('decipher', 1), ('phifer', 1), ('thing', 1), ('swing', 1), ('thanks', 1), ('banks', 1), ('ranks', 1), ('chat', 1), ('wack', 1), ('hat', 1), ('shop', 1), ('stare', 1), ('cds', 1), ('speakers', 1), ('massapequa', 1), ('underline', 1), ('pizazz', 1), ('below', 1), ('orgy', 1), ('porgies', 1), ('verse', 1), ('shook', 1), ('cook', 1), ('twos', 1), ('another', 1), ('brotha', 1), ('juice', 1), ('chatting', 1), ('rapping', 1), ('happen', 1), ('par', 1), ('spar', 1), ('southpaw', 1), ('ready', 1), ('whackberry', 1), ('shown', 1), ('sewn', 1), ('clones', 1), ('scones', 1), ('further', 1), ('celebreate', 1), ('elevate', 1), ('levitate', 1), ('debate', 1), ('rate', 1), ('league', 1), ('weave', 1), ('peas', 1), ('steeze', 1), ('paul', 1), ('potent', 1), ('quoting', 1), ('rationale', 1), ('naturale', 1), ('leia', 1), ('vader', 1), ('vapors', 1), ('gator', 1), ('data', 1), ('beta', 1), ('waiter', 1), ('elitists', 1), ('pieces', 1), ('science', 1), ('defiant', 1), ('appliance', 1), ('flyness', 1), ('giant', 1), ('pliers', 1), ('buyers', 1), ('growers', 1), ('knowers', 1), ('boing', 1), ('goines', 1), ('noise', 1), ('coins', 1), ('boys', 1), ('loins', 1), ('versed', 1), ('rehearsed', 1), ('cole', 1), ('generation', 1), ('poe', 1), ('instead', 1), ('dreads', 1), ('ufc', 1), ('usb', 1), ('grass', 1), ('pass', 1), ('nyc', 1), ('mike', 1), ('henning', 1), ('writtens', 1), ('unforgiven', 1), ('kitchen', 1), ('daze', 1), ('phase', 1), ('grade', 1), ('tokyo', 1), ('sapporo', 1), ('pistachio', 1), ('sabbatical', 1), ('politic', 1), ('doing', 1), ('spewing', 1), ('ruined', 1), ('mumbling', 1), ('fumbling', 1), ('greatest', 1), ('haters', 1), ('hiatus', 1), ('toleration', 1), ('devastation', 1), ('revelation', 1), ('faces', 1), ('laces', 1), ('deuteronomy', 1), ('fumigate', 1), ('lluminate', 1), ('pops', 1), ('bebop', 1), ('cycles', 1), ('michael', 1), ('looking', 1), ('booking', 1), ('everybody', 1), ('truckload', 1), ('picture', 1), ('fixture', 1), ('sever', 1), ('adored', 1), ('appreciated', 1), ('god', 1), ('plastic', 1), ('spastic', 1), ('gravy', 1), ('baby', 1), ('motherland', 1), ('positivity', 1), ('longevity', 1), ('fake', 1), ('raps', 1), ('blocks', 1), ('realize', 1), ('exist', 1), ('sis', 1), ('jerk', 1), ('beats', 1), ('funky', 1), ('junkie', 1), ('shakespeare', 1), ('lie', 1), ('almanac', 1), ('dictionary', 1), ('canary', 1), ('carpet', 1), ('mannerisms', 1), ('donuts', 1), ('erased', 1), ('bells', 1), ('bike', 1), ('carousel', 1), ('compelled', 1), ('jel', 1), ('visions', 1), ('dough', 1), ('biscuits', 1), ('fries', 1), ('popeyes', 1), ('grin', 1), ('whens', 1), ('rotted', 1), ('pygmies', 1), ('bids', 1), ('kids', 1), ('loner', 1), ('stoner', 1), ('daytona', 1), ('boning', 1), ('moaning', 1), ('morning', 1), ('kayaking', 1), ('salty', 1), ('atcq', 1), ('stew', 1), ('spoke', 1), ('halls', 1), ('fans', 1), ('gang', 1), ('van', 1), ('music', 1), ('crown', 1), ('frown', 1), ('door', 1), ('line', 1), ('unrefined', 1), ('bound', 1), ('hip', 1), ('pick', 1), ('glide', 1), ('domingo', 1), ('gringo', 1), ('raspy', 1), ('grits', 1), ('vogue', 1), ('tlc', 1), ('3', 1), ('bitching', 1), ('gladiator', 1), ('hesitater', 1), ('fader', 1), ('grenada', 1), ('energetic', 1), ('pathetic', 1), ('diabetic', 1), ('complementary', 1), ('poetry', 1), ('humdinger', 1), ('sinker', 1), ('martin', 1), ('starting', 1), ('crush', 1), ('hush', 1), ('cant', 1), ('rant', 1), ('chant', 1), ('pant', 1), ('which', 1), ('wish', 1), ('miss', 1), ('strategy', 1), ('friendly', 1), ('corrupt', 1), ('cups', 1), ('huh', 1), ('harder', 1), ('unwind', 1), ('moneypenny', 1), ('stee', 1), ('company', 1), ('however', 1), ('curb', 1), ('blurred', 1), ('view', 1), ('cool', 1), ('prison', 1), ('spofford', 1), ('harvard', 1), ('weak', 1), ('trap', 1), ('broken', 1), ('smokin', 1), ('totin', 1), ('improvement', 1), ('complexity', 1), ('lectricity', 1), ('organically', 1), ('sees', 1), ('walked', 1), ('chillin', 1), ('willin', 1), ('prisons', 1), ('religions', 1), ('systems', 1), ('scratcher', 1), ('rugs', 1), ('answer', 1), ('cancer', 1), ('fund', 1), ('everyone', 1), ('adversity', 1), ('crawl', 1), ('tall', 1), ('liberia', 1), ('siberia', 1), ('criteria', 1), ('nigeria', 1), ('area', 1), ('terriers', 1), ('card', 1), ('concisely', 1), ('inhale', 1), ('whale', 1), ('queens', 1), ('inane', 1), ('south', 1), ('mouth', 1), ('crummy', 1), ('brace', 1), ('endearment', 1), ('went', 1), ('spray', 1), ('primo', 1), ('negroes', 1), ('latinos', 1), ('gringos', 1), ('tell', 1), ('tenth', 1), ('length', 1), ('strength', 1), ('possess', 1), ('powerless', 1), ('inferno', 1), ('journal', 1), ('myrtle', 1), ('hurdles', 1), ('complex', 1), ('somehow', 1), ('profits', 1), ('ki', 1), ('phone', 1), ('terrordome', 1), ('tumblers', 1), ('teens', 1), ('greens', 1), ('patients', 1), ('playstation', 1), ('add', 1), ('story', 1), ('mandatory', 1), ('thrills', 1), ('9mils', 1), ('hill', 1), ('krill', 1), ('filled', 1), ('steel', 1), ('stripe', 1), ('sentence', 1), ('living', 1), ('million', 1), ('supervision', 1), ('statistics', 1), ('digits', 1), ('secret', 1), ('name', 1), ('range', 1), ('chipped', 1), ('clip', 1), ('once', 1), ('front', 1), ('paparazzi', 1), ('glance', 1), ('stance', 1), ('pants', 1), ('laced', 1), ('jamaica', 1), ('plans', 1), ('mu', 1), ('introduce', 1), ('bird', 1), ('observed', 1), ('sharice', 1), ('especially', 1), ('skeptically', 1), ('weaponry', 1), ('accessories', 1), ('mentally', 1), ('bro', 1), ('steelo', 1), ('blades', 1), ('waist', 1), ('summer', 1), ('dating', 1), ('conversation', 1), ('patient', 1), ('eyelids', 1), ('silent', 1), ('isaacs', 1), ('tattoo', 1), ('taboo', 1), ('candles', 1), ('cancelled', 1), ('potato', 1), ('trunks', 1), ('funk', 1), ('ease', 1), ('fever', 1), ('magic', 1), ('frantic', 1), ('underground', 1), ('minority', 1), ('product', 1), ('narcotics', 1), ('lorenzo', 1), ('slaughter', 1), ('nuts', 1), ('top', 1), ('cop', 1), ('swarm', 1), ('uniform', 1), ('warpath', 1), ('bloodbath', 1), ('la', 1), ('majority', 1), ('steppin', 1), ('scope', 1), ('cope', 1), ('mad', 1), ('bad', 1), ('jackin', 1), ('butt', 1), ('ak', 1), ('silence', 1), ('violence', 1), ('rule', 1), ('mirror', 1), ('away', 1), ('cube', 1), ('attitudes', 1), ('called', 1), ('sawed', 1), ('hauled', 1), ('mumble', 1), ('rumble', 1), ('gumbo', 1), ('smooth', 1), ('dancin', 1), ('manson', 1), ('tool', 1), ('maybe', 1), ('daily', 1), ('yearly', 1), ('clearly', 1), ('duck', 1), ('stompin', 1), ('snaps', 1), ('craps', 1), ('packing', 1), ('row', 1), ('legit', 1), ('automatic', 1), ('itself', 1), ('shelf', 1), ('killin', 1), ('clue', 1), ('trip', 1), ('brother', 1), ('mother', 1), ('bail', 1), ('problem', 1), ('him', 1), ('eazy', 1), ('spark', 1), ('hesitation', 1), ('penetration', 1), ('jetting', 1), ('forgetting', 1), ('bout', 1), ('penitentiary', 1), ('toothless', 1), ('ruthless', 1), ('damn', 1), ('program', 1), ('bottle', 1), ('model', 1), ('bailing', 1), ('yelling', 1), ('house', 1), ('butts', 1), ('crying', 1), ('lying', 1), ('dyke', 1), ('jaw', 1), ('security', 1), ('plot', 1), ('gunning', 1), ('running', 1), ('cussin', 1), ('busting', 1), ('vehicle', 1), ('hanging', 1), ('banging', 1), ('creep', 1), ('window', 1), ('gas', 1), ('bucket', 1), ('fort', 1), ('shorts', 1), ('ladies', 1), ('into', 1), ('blues', 1), ('size', 1), ('levis', 1), ('disguise', 1), ('fo', 1), ('scene', 1), ('lean', 1), ('aint', 1), ('thang', 1), ('capabilities', 1), ('facilities', 1), ('buddhist', 1), ('hereditary', 1), ('predicate', 1), ('think', 1), ('pink', 1), ('dis', 1), ('english', 1), ('yella', 1), ('cappella', 1), ('express', 1), ('manage', 1), ('equal', 1), ('sequel', 1), ('pg', 1), ('easy', 1), ('jacks', 1), ('trend', 1), ('spin', 1), ('end', 1), ('help', 1), ('myself', 1), ('guessing', 1), ('expressing', 1), ('starts', 1), ('fiction', 1), ('wealth', 1), ('start', 1), ('chart', 1), ('part', 1), ('tortoise', 1), ('embryo', 1), ('lesson', 1), ('expression', 1), ('wesson', 1), ('bottom', 1), ('autumn', 1), ('job', 1), ('mob', 1), ('macabre', 1), ('fetus', 1), ('tumor', 1), ('rumor', 1), ('neighborhood', 1), ('jacket', 1), ('hype', 1), ('tonight', 1), ('smoker', 1), ('caine', 1), ('7', 1), ('waiting', 1), ('daytons', 1), ('ca', 1), ('paid', 1), ('15th', 1), ('twenty', 1), ('plenty', 1), ('qualify', 1), ('supply', 1), ('shut', 1), ('strikes', 1), ('wife', 1), ('gonorrhea', 1), ('clucker', 1), ('4', 1), ('crook', 1), ('hooked', 1), ('gone', 1), ('stealing', 1), ('dealing', 1), ('illing', 1), ('killing', 1), ('cocaine', 1), ('insane', 1), ('train', 1), ('neither', 1), ('beaver', 1), ('folding', 1), ('holding', 1), ('early', 1), ('dirty', 1), ('deal', 1), ('drug', 1), ('character', 1), ('america', 1), ('letter', 1), ('bear', 1), ('hi', 1), ('fly', 1), ('funny', 1), ('conniving', 1), ('driving', 1), ('striving', 1), ('bmw', 1), ('guess', 1), ('s', 1), ('snobby', 1), ('hobby', 1), ('ditch', 1), ('slapped', 1), ('fat', 1), ('category', 1), ('blink', 1), ('stink', 1), ('drink', 1), ('clown', 1), ('hostage', 1), ('ostrich', 1), ('muthafucker', 1), ('avoid', 1), ('hemorrhoids', 1), ('10', 1), ('serve', 1), ('nerve', 1), ('deserve', 1), ('maniac', 1), ('brainiac', 1), ('styles', 1), ('miles', 1), ('cheating', 1), ('beating', 1), ('seating', 1), ('eating', 1), ('bull', 1), ('full', 1), ('cuss', 1), ('harm', 1), ('army', 1), ('break', 1), ('scared', 1), ('nightmare', 1), ('lights', 1), ('mics', 1), ('psycho', 1), ('might', 1), ('jabber', 1), ('hammer', 1), ('brick', 1), ('mislead', 1), ('forehead', 1), ('keeps', 1), ('dust', 1), ('kill', 1), ('thought', 1), ('caught', 1), ('hats', 1), ('chanting', 1), ('ears', 1), ('ideas', 1), ('crumb', 1), ('lucked', 1), ('ignore', 1), ('bigga', 1), ('madness', 1), ('sadness', 1), ('gladdest', 1), ('jams', 1), ('smart', 1), ('cargo', 1), ('arnold', 1), ('nwa', 1), ('anyway', 1), ('faking', 1), ('memory', 1), ('cowards', 1), ('hours', 1), ('howard', 1), ('bauers', 1), ('superpowers', 1), ('flows', 1), ('broke', 1), ('pope', 1), ('group', 1), ('coup', 1), ('smoke', 1), ('choke', 1), ('subterranean', 1), ('titanium', 1), ('swift', 1), ('notes', 1), ('rope', 1), ('coke', 1), ('throat', 1), ('pistols', 1), ('whistle', 1), ('impala', 1), ('collars', 1), ('win', 1), ('hen', 1), ('gin', 1), ('cracking', 1), ('ged', 1), ('ced', 1), ('heat', 1), ('deck', 1), ('buckshots', 1), ('tight', 1), ('wipe', 1), ('tragedy', 1), ('erratically', 1), ('systematically', 1), ('anatomy', 1), ('flattery', 1), ('battery', 1), ('mentality', 1), ('academy', 1), ('tricks', 1), ('dicks', 1), ('destruct', 1), ('mutherfuckers', 1), ('police', 1), ('peace', 1), ('fixed', 1), ('homebase', 1), ('pace', 1), ('raced', 1), ('marathon', 1), ('wired', 1), ('tired', 1), ('attitude', 1), ('confused', 1), ('accused', 1), ('shoes', 1), ('minds', 1), ('d', 1), ('quick', 1), ('stick', 1), ('clock', 1), ('stretch', 1), ('catch', 1), ('by', 1), ('im', 1), ('gunnin', 1), ('news', 1), ('shirts', 1), ('doors', 1), ('slave', 1), ('hidin', 1), ('ridin', 1), ('even', 1), ('leavin', 1), ('searchlight', 1), ('waste', 1), ('blood', 1), ('choice', 1), ('voice', 1), ('ban', 1), ('portray', 1), ('city', 1), ('bit', 1), ('commit', 1), ('manslaughter', 1), ('daughter', 1), ('sucked', 1), ('greed', 1), ('feed', 1), ('noisy', 1), ('kamikaze', 1), ('faded', 1), ('understand', 1), ('therefore', 1), ('sleeve', 1), ('appetite', 1), ('essence', 1), ('somethin', 1), ('respect', 1), ('neck', 1), ('wedlock', 1), ('fanatic', 1), ('begun', 1), ('run', 1), ('times', 1), ('alive', 1), ('jive', 1), ('secondhands', 1), ('tooth', 1), ('goose', 1), ('loot', 1), ('teen', 1), ('16', 1), ('gates', 1), ('stakes', 1), ('escapes', 1), ('sweater', 1), ('leather', 1), ('keys', 1), ('seas', 1), ('mpvs', 1), ('gs', 1), ('9', 1), ('strugglin', 1), ('buggin', 1), ('survival', 1), ('arrival', 1), ('cream', 1), ('fifteen', 1), ('failed', 1), ('such', 1), ('clutch', 1), ('short', 1), ('incarceration', 1), ('pacin', 1), ('destination', 1), ('bus', 1), ('chase', 1), ('staircase', 1), ('depressed', 1), ('maintain', 1), ('cops', 1), ('beer', 1), ('hear', 1), ('neglected', 1), ('accepted', 1), ('hectic', 1), ('bolivia', 1), ('proclamation', 1), ('doubtin', 1), ('mountains', 1), ('sire', 1), ('mariah', 1), ('vary', 1), ('carry', 1), ('guns', 1), ('sweatin', 1), ('stressin', 1), ('contestin', 1), ('midsection', 1), ('barricade', 1), ('drivin', 1), ('survivin', 1), ('crooks', 1), ('looks', 1), ('hook', 1), ('macs', 1), ('acs', 1), ('stacks', 1), ('beef', 1), ('bother', 1), ('fathers', 1), ('cats', 1), ('gats', 1), ('cousteau', 1), ('vroom', 1), ('rappinin', 1), ('happenin', 1), ('party', 1), ('body', 1), ('somebody', 1), ('enough', 1), ('stuff', 1), ('huff', 1), ('puff', 1), ('bluff', 1), ('tuff', 1), ('grocery', 1), ('tang', 1), ('bring', 1), ('killah', 1), ('iller', 1), ('psych', 1), ('trife', 1), ('blasted', 1), ('task', 1), ('mask', 1), ('lazy', 1), ('slugs', 1), ('thugs', 1), ('mugs', 1), ('1', 1), ('trippin', 1), ('justifies', 1), ('rapture', 1), ('apb', 1), ('stature', 1), ('victim', 1), ('bloodstream', 1), ('contain', 1), ('centipede', 1), ('injure', 1), ('contender', 1), ('moonshine', 1), ('79', 1), ('atomically', 1), ('socrates', 1), ('philosophies', 1), ('hypotheses', 1), ('mockeries', 1), ('lottery', 1), ('explosion', 1), ('forensics', 1), ('millennium', 1), ('platinum', 1), ('shackling', 1), ('graphic', 1), ('blacksmiths', 1), ('jackets', 1), ('function', 1), ('behold', 1), ('slowly', 1), ('shinobi', 1), ('pound', 1), ('locked', 1), ('turns', 1), ('germ', 1), ('learn', 1), ('burned', 1), ('pestilence', 1), ('testament', 1), ('pan', 1), ('rider', 1), ('desire', 1), ('strapped', 1), ('cap', 1), ('sperm', 1), ('perm', 1), ('clot', 1), ('spots', 1), ('lung', 1), ('navarone', 1), ('darts', 1), ('martini', 1), ('chatterbox', 1), ('talking', 1), ('walking', 1), ('cyanide', 1), ('sweet', 1), ('defeat', 1), ('arms', 1), ('tantrum', 1), ('anthem', 1), ('ransom', 1), ('anaesthesias', 1), ('ballerinas', 1), ('smell', 1), ('sing', 1), ('ginseng', 1), ('ring', 1), ('kings', 1), ('soldiers', 1), ('sober', 1), ('square', 1), ('flair', 1), ('lair', 1), ('vortex', 1), ('cortex', 1), ('sex', 1), ('station', 1), ('novation', 1), ('probation', 1), ('masses', 1), ('disastrous', 1), ('ashes', 1), ('plaques', 1), ('acts', 1), ('torn', 1), ('mourn', 1), ('rage', 1), ('stage', 1), ('dumb', 1), ('drum', 1), ('rack', 1), ('codeine', 1), ('green', 1), ('scum', 1), ('numb', 1), ('81', 1), ('convincing', 1), ('convention', 1), ('liston', 1), ('permission', 1), ('luck', 1), ('dutch', 1), ('threes', 1), ('genovese', 1), ('burst', 1), ('megahertz', 1), ('hawk', 1), ('notarizer', 1), ('riser', 1), ('visor', 1), ('tranquilizer', 1), ('dosage', 1), ('explosives', 1), ('ferocious', 1), ('chancellor', 1), ('tarantula', 1), ('substantiala', 1), ('sickening', 1), ('strickland', 1), ('frazier', 1), ('raiser', 1), ('pakistan', 1), ('tickin', 1), ('kickin', 1), ('ranger', 1), ('danger', 1), ('apart', 1), ('vandal', 1), ('handle', 1), ('campbell', 1), ('roughneck', 1), ('decks', 1), ('rebel', 1), ('metal', 1), ('wild', 1), ('assassinator', 1), ('schwarzenegger', 1), ('threat', 1), ('assets', 1), ('meth', 1), ('mef', 1), ('left', 1), ('aim', 1), ('suuu', 1), ('due', 1), ('oooh', 1), ('ohhh', 1), ('hudson', 1), ('dustin', 1), ('sauce', 1), ('nurse', 1), ('slack', 1), ('mack', 1), ('packed', 1), ('stack', 1), ('zu', 1), ('damned', 1), ('center', 1), ('enter', 1), ('winter', 1), ('stash', 1), ('cash', 1), ('book', 1), ('took', 1), ('ejectin', 1), ('oregon', 1), ('flashback', 1), ('lounge', 1), ('order', 1), ('border', 1), ('far', 1), ('star', 1), ('escobar', 1), ('pros', 1), ('goes', 1), ('feedback', 1), ('hostile', 1), ('aeropostale', 1), ('gospel', 1), ('robe', 1), ('globe', 1), ('ten', 1), ('chin', 1), ('drums', 1), ('flamboyant', 1), ('enjoyment', 1), ('unemployment', 1), ('labels', 1), ('mabel', 1), ('abel', 1), ('table', 1), ('invent', 1), ('cent', 1), ('scrub', 1), ('bulb', 1), ('bright', 1), ('light', 1), ('companies', 1), ('r', 1), ('guitar', 1), ('soap', 1), ('fight', 1), ('hide', 1), ('inside', 1), ('doom', 1), ('bam', 1), ('tarzan', 1), ('tossin', 1), ('flossin', 1), ('awesome', 1), ('dawson', 1), ('said', 1), ('cat', 1), ('eardrum', 1), ('groove', 1), ('rude', 1), ('truck', 1), ('sea', 1), ('lt', 1), ('quarterback', 1), ('sacks', 1), ('test', 1), ('ins', 1), ('best', 1), ('bake', 1), ('cake', 1), ('busted', 1), ('tomorrow', 1), ('bizarro', 1), ('afro', 1), ('rollo', 1), ('dolo', 1), ('i', 1), ('pie', 1), ('razor', 1), ('vu', 1), ('glue', 1), ('ohio', 1)]\n",
      "1870\n",
      "0\n",
      "1431\n",
      "248\n",
      "96\n",
      "33\n",
      "24\n",
      "11\n",
      "6\n",
      "4\n",
      "2\n",
      "3\n",
      "0\n",
      "1\n",
      "2\n",
      "1\n",
      "4\n",
      "1\n",
      "1\n",
      "0\n",
      "1\n",
      "0\n",
      "0\n",
      "0\n",
      "0\n",
      "0\n",
      "632\n",
      "270\n"
     ]
    }
   ],
   "source": [
    "from collections import defaultdict\n",
    "\n",
    "rhymes = defaultdict(list)\n",
    "\n",
    "read_file(rhymes, './data/atribecalledquest.txt')\n",
    "read_file(rhymes, './data/mosdef.txt')\n",
    "read_file(rhymes, './data/nwa.txt')\n",
    "read_file(rhymes, './data/wutangclan.txt')\n",
    "\n",
    "num_rhyme_groups = len(rhymes)\n",
    "num_words = 0\n",
    "for key, group in rhymes.items():\n",
    "    num_words += len(group)\n",
    "print(num_rhyme_groups)\n",
    "print(num_words)\n",
    "\n",
    "counts = defaultdict(int)\n",
    "\n",
    "for key, group in rhymes.items():\n",
    "    for word in group:\n",
    "        counts[word] += 1\n",
    "\n",
    "print(sorted(counts.items(), key=lambda x: x[1], reverse=True))\n",
    "print(len(counts))\n",
    "\n",
    "c_counts = defaultdict(int)\n",
    "for count in counts.values():\n",
    "    c_counts[count] += 1\n",
    "for i in range(25):\n",
    "    print(c_counts[i])\n",
    "\n",
    "unique = 0\n",
    "unique_r = 0\n",
    "for key, group in rhymes.items():\n",
    "    if sum([counts[word] for word in group]) == len(group):\n",
    "        unique += len(group)\n",
    "        unique_r += 1\n",
    "print(unique)\n",
    "print(unique_r)\n",
    "\n",
    "lines = [' '.join(words) + '\\n' for words in rhymes.values()]\n",
    "\n",
    "with open('./data/rhymes.txt', 'w') as f:\n",
    "    f.writelines(lines)"
   ]
  },
  {
   "cell_type": "code",
   "execution_count": null,
   "metadata": {
    "collapsed": true
   },
   "outputs": [],
   "source": []
  }
 ],
 "metadata": {
  "kernelspec": {
   "display_name": "Python 3",
   "language": "python",
   "name": "python3"
  },
  "language_info": {
   "codemirror_mode": {
    "name": "ipython",
    "version": 3
   },
   "file_extension": ".py",
   "mimetype": "text/x-python",
   "name": "python",
   "nbconvert_exporter": "python",
   "pygments_lexer": "ipython3",
   "version": "3.6.0"
  }
 },
 "nbformat": 4,
 "nbformat_minor": 2
}
